{
  "nbformat": 4,
  "nbformat_minor": 0,
  "metadata": {
    "colab": {
      "provenance": [],
      "toc_visible": true,
      "authorship_tag": "ABX9TyMBiKa4UTjjNrCTLlc/Brf0"
    },
    "kernelspec": {
      "name": "python3",
      "display_name": "Python 3"
    },
    "language_info": {
      "name": "python"
    }
  },
  "cells": [
    {
      "cell_type": "code",
      "execution_count": null,
      "metadata": {
        "id": "mcGyDhXzsals"
      },
      "outputs": [],
      "source": [
        "# Transformer implementation from scratch with PyTorch\n",
        "# https://medium.com/towards-data-science/build-your-own-transformer-from-scratch-using-pytorch-84c850470dcb"
      ]
    },
    {
      "cell_type": "code",
      "source": [],
      "metadata": {
        "id": "-eEKlrqFsi3E"
      },
      "execution_count": null,
      "outputs": []
    },
    {
      "cell_type": "markdown",
      "source": [
        "# Multi-Head Attention\n"
      ],
      "metadata": {
        "id": "r3G0IqdhsxnU"
      }
    },
    {
      "cell_type": "code",
      "source": [
        "class MultiHeadAttention():\n",
        "  def __init__(self, num_heads):\n",
        "\n",
        "\n",
        "\n"
      ],
      "metadata": {
        "id": "rEghBGycs1si"
      },
      "execution_count": null,
      "outputs": []
    }
  ]
}